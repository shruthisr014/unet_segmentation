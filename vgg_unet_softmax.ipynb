{
 "cells": [
  {
   "cell_type": "code",
   "execution_count": 4,
   "metadata": {},
   "outputs": [
    {
     "name": "stderr",
     "output_type": "stream",
     "text": [
      "Using TensorFlow backend.\n"
     ]
    }
   ],
   "source": [
    "import numpy as np\n",
    "import skimage.transform\n",
    "import matplotlib.pyplot as plt\n",
    "import matplotlib as mpl\n",
    "import os\n",
    "from skimage.io import imread\n",
    "from skimage.segmentation import mark_boundaries\n",
    "from sklearn.metrics import roc_curve, auc\n",
    "from skimage.color import label2rgb\n",
    "import pandas as pd\n",
    "from IPython.display import display\n",
    "from glob import glob\n",
    "from os.path import split, splitext, join\n",
    "import tensorflow as tf\n",
    "from keras.utils import multi_gpu_model\n",
    "\n",
    "base_dir = os.path.realpath('D:\\\\ADE2K\\\\ADE20K_2016_07_26\\\\images')"
   ]
  },
  {
   "cell_type": "code",
   "execution_count": 5,
   "metadata": {},
   "outputs": [],
   "source": [
    "path = []\n",
    "jpg_path = []\n",
    "for root, dir, files in os.walk(base_dir, topdown=False):\n",
    "    for name in files:\n",
    "        path +=(glob(os.path.join(root,name)))\n",
    "        if name.endswith('.jpg'):\n",
    "            jpg_path += (glob(os.path.join(root,name)))\n"
   ]
  },
  {
   "cell_type": "code",
   "execution_count": 6,
   "metadata": {},
   "outputs": [],
   "source": [
    "all_img_df = pd.DataFrame(dict(path = jpg_path))"
   ]
  },
  {
   "cell_type": "code",
   "execution_count": 8,
   "metadata": {},
   "outputs": [
    {
     "name": "stdout",
     "output_type": "stream",
     "text": [
      "D:\\ADE2K\\ADE20K_2016_07_26\\images\\training\\a\\abbey\\ADE_train_00000970_seg.png\n"
     ]
    }
   ],
   "source": [
    "all_img_df[\"mask_path\"] = all_img_df[\"path\"].map(lambda x : x.replace('.jpg', '_seg.png'))\n",
    "print(all_img_df[\"mask_path\"][0])"
   ]
  },
  {
   "cell_type": "code",
   "execution_count": 9,
   "metadata": {},
   "outputs": [],
   "source": [
    "import numpy as np\n",
    "import cv2\n",
    "import itertools"
   ]
  },
  {
   "cell_type": "code",
   "execution_count": null,
   "metadata": {},
   "outputs": [],
   "source": []
  }
 ],
 "metadata": {
  "kernelspec": {
   "display_name": "Python 3",
   "language": "python",
   "name": "python3"
  },
  "language_info": {
   "codemirror_mode": {
    "name": "ipython",
    "version": 3
   },
   "file_extension": ".py",
   "mimetype": "text/x-python",
   "name": "python",
   "nbconvert_exporter": "python",
   "pygments_lexer": "ipython3",
   "version": "3.6.6"
  }
 },
 "nbformat": 4,
 "nbformat_minor": 2
}
