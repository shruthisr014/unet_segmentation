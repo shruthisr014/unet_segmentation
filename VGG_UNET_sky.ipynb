{
 "cells": [
  {
   "cell_type": "code",
   "execution_count": 80,
   "metadata": {},
   "outputs": [],
   "source": [
    "import os\n",
    "import sys\n",
    "import pandas as pd\n",
    "import glob\n",
    "import shutil\n",
    "import numpy as np\n",
    "\n",
    "base_dir = os.path.realpath('D:\\\\sky_dataset')"
   ]
  },
  {
   "cell_type": "code",
   "execution_count": 69,
   "metadata": {},
   "outputs": [],
   "source": [
    "#all_img_df = pd.DataFrame(dict(path = glob.glob(os.path.join(base_dir,'sky_image','10066', '*.jpg*'))))\n",
    "path = []\n",
    "for num in sorted(os.listdir(os.path.join(base_dir,'sky_image'))):\n",
    "    path += glob.glob(os.path.join(base_dir,'sky_image',num, '*.jpg*'))\n",
    "all_img_df = pd.DataFrame(dict(path = path))\n"
   ]
  },
  {
   "cell_type": "code",
   "execution_count": 106,
   "metadata": {},
   "outputs": [],
   "source": [
    "import re\n",
    "counter = 0\n",
    "mask_path = []\n",
    "id = [] \n",
    "for x in path:\n",
    "    num = (re.findall('\\d+', m_p ))\n",
    "    id.append(num[0])\n",
    "    mask_path += glob.glob(os.path.join(base_dir, 'sky_mask', str(num[0]) + '.png')) \n",
    "all_img_df[\"sky_mask\"] = mask_path\n",
    "all_img_df[\"id\"] = id\n"
   ]
  },
  {
   "cell_type": "code",
   "execution_count": 112,
   "metadata": {},
   "outputs": [
    {
     "data": {
      "text/html": [
       "<div>\n",
       "<style scoped>\n",
       "    .dataframe tbody tr th:only-of-type {\n",
       "        vertical-align: middle;\n",
       "    }\n",
       "\n",
       "    .dataframe tbody tr th {\n",
       "        vertical-align: top;\n",
       "    }\n",
       "\n",
       "    .dataframe thead th {\n",
       "        text-align: right;\n",
       "    }\n",
       "</style>\n",
       "<table border=\"1\" class=\"dataframe\">\n",
       "  <thead>\n",
       "    <tr style=\"text-align: right;\">\n",
       "      <th></th>\n",
       "      <th>path</th>\n",
       "      <th>sky_mask</th>\n",
       "      <th>id</th>\n",
       "      <th>key_id</th>\n",
       "      <th>sky_id</th>\n",
       "    </tr>\n",
       "  </thead>\n",
       "  <tbody>\n",
       "    <tr>\n",
       "      <th>0</th>\n",
       "      <td>D:\\sky_dataset\\sky_image\\10066\\20130101_084634...</td>\n",
       "      <td>D:\\sky_dataset\\sky_mask\\10066.png</td>\n",
       "      <td>10066</td>\n",
       "      <td>20130101_084634</td>\n",
       "      <td>084634</td>\n",
       "    </tr>\n",
       "    <tr>\n",
       "      <th>1</th>\n",
       "      <td>D:\\sky_dataset\\sky_image\\10066\\20130101_091628...</td>\n",
       "      <td>D:\\sky_dataset\\sky_mask\\10066.png</td>\n",
       "      <td>10066</td>\n",
       "      <td>20130101_091628</td>\n",
       "      <td>091628</td>\n",
       "    </tr>\n",
       "    <tr>\n",
       "      <th>2</th>\n",
       "      <td>D:\\sky_dataset\\sky_image\\10066\\20130101_114638...</td>\n",
       "      <td>D:\\sky_dataset\\sky_mask\\10066.png</td>\n",
       "      <td>10066</td>\n",
       "      <td>20130101_114638</td>\n",
       "      <td>114638</td>\n",
       "    </tr>\n",
       "    <tr>\n",
       "      <th>3</th>\n",
       "      <td>D:\\sky_dataset\\sky_image\\10066\\20130101_125725...</td>\n",
       "      <td>D:\\sky_dataset\\sky_mask\\10066.png</td>\n",
       "      <td>10066</td>\n",
       "      <td>20130101_125725</td>\n",
       "      <td>125725</td>\n",
       "    </tr>\n",
       "    <tr>\n",
       "      <th>4</th>\n",
       "      <td>D:\\sky_dataset\\sky_image\\10066\\20130101_154632...</td>\n",
       "      <td>D:\\sky_dataset\\sky_mask\\10066.png</td>\n",
       "      <td>10066</td>\n",
       "      <td>20130101_154632</td>\n",
       "      <td>154632</td>\n",
       "    </tr>\n",
       "  </tbody>\n",
       "</table>\n",
       "</div>"
      ],
      "text/plain": [
       "                                                path  \\\n",
       "0  D:\\sky_dataset\\sky_image\\10066\\20130101_084634...   \n",
       "1  D:\\sky_dataset\\sky_image\\10066\\20130101_091628...   \n",
       "2  D:\\sky_dataset\\sky_image\\10066\\20130101_114638...   \n",
       "3  D:\\sky_dataset\\sky_image\\10066\\20130101_125725...   \n",
       "4  D:\\sky_dataset\\sky_image\\10066\\20130101_154632...   \n",
       "\n",
       "                            sky_mask     id           key_id  sky_id  \n",
       "0  D:\\sky_dataset\\sky_mask\\10066.png  10066  20130101_084634  084634  \n",
       "1  D:\\sky_dataset\\sky_mask\\10066.png  10066  20130101_091628  091628  \n",
       "2  D:\\sky_dataset\\sky_mask\\10066.png  10066  20130101_114638  114638  \n",
       "3  D:\\sky_dataset\\sky_mask\\10066.png  10066  20130101_125725  125725  \n",
       "4  D:\\sky_dataset\\sky_mask\\10066.png  10066  20130101_154632  154632  "
      ]
     },
     "execution_count": 112,
     "metadata": {},
     "output_type": "execute_result"
    }
   ],
   "source": [
    "all_img_df[\"key_id\"] = all_img_df['path'].map(lambda x : splitext(os.path.basename(x))[0])\n",
    "all_img_df['sky_id'] = all_img_df['key_id'].map(lambda x: x.split('_')[1])\n",
    "all_img_df.head()\n",
    "from sklearn.model_selection import train_test_split\n",
    "def train_test_split_on_group()"
   ]
  },
  {
   "cell_type": "code",
   "execution_count": 109,
   "metadata": {},
   "outputs": [
    {
     "name": "stdout",
     "output_type": "stream",
     "text": [
      "20130101_084634\n"
     ]
    }
   ],
   "source": []
  },
  {
   "cell_type": "code",
   "execution_count": null,
   "metadata": {},
   "outputs": [],
   "source": []
  }
 ],
 "metadata": {
  "kernelspec": {
   "display_name": "Python 3",
   "language": "python",
   "name": "python3"
  },
  "language_info": {
   "codemirror_mode": {
    "name": "ipython",
    "version": 3
   },
   "file_extension": ".py",
   "mimetype": "text/x-python",
   "name": "python",
   "nbconvert_exporter": "python",
   "pygments_lexer": "ipython3",
   "version": "3.6.6"
  }
 },
 "nbformat": 4,
 "nbformat_minor": 2
}
